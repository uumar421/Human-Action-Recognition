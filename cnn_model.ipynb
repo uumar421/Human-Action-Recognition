{
 "cells": [
  {
   "cell_type": "code",
   "execution_count": 1,
   "id": "experienced-charlotte",
   "metadata": {},
   "outputs": [],
   "source": [
    "import numpy as np\n",
    "import os\n",
    "import cv2\n",
    "import tensorflow as tf\n",
    "from tensorflow import keras\n",
    "from tensorflow.keras import Input, Model\n",
    "from tensorflow.keras import layers\n",
    "from tensorflow.keras.layers import (\n",
    "    Conv2D, \n",
    "    MaxPooling2D, \n",
    "    Dropout, \n",
    "    Activation, \n",
    "    GlobalAveragePooling2D, \n",
    "    Dense, \n",
    "    Dropout\n",
    ")\n",
    "from tensorflow.keras.optimizers import Adam\n",
    "from tensorflow.keras.losses import SparseCategoricalCrossentropy\n",
    "from tensorflow.keras.metrics import Accuracy\n",
    "from sklearn.model_selection import train_test_split\n",
    "from matplotlib import pyplot as plt\n"
   ]
  },
  {
   "cell_type": "code",
   "execution_count": 2,
   "id": "variable-transparency",
   "metadata": {},
   "outputs": [],
   "source": [
    "data_dir = \"./train_images\"\n",
    "directories = [\"breakdancing\", \"calligraphy\", \"celebrating\", \"claypotterymaking\", \"climbingarope\",\n",
    "           \"cookingoncampfire\",\"eatingicecream\",\"golfdriving\",\"pushup\",\"raisingeyebrows\", \"ridingscooter\"]"
   ]
  },
  {
   "cell_type": "code",
   "execution_count": 3,
   "id": "eight-rabbit",
   "metadata": {},
   "outputs": [],
   "source": [
    "def dataset(img_folder):\n",
    "    images =[]\n",
    "    labels=[]\n",
    "    IMG_HEIGHT = 64\n",
    "    IMG_WIDTH = 64\n",
    "    for dir1 in directories:\n",
    "        #count=0\n",
    "        label = directories.index(dir1)\n",
    "        image_file = os.path.join(img_folder, dir1)\n",
    "        for i in os.listdir(image_file):\n",
    "            image = cv2.imread(os.path.join(image_file, i))\n",
    "            image = cv2.resize(image, (IMG_HEIGHT,IMG_WIDTH))\n",
    "            images.append(image)\n",
    "            labels.append(label)\n",
    "            '''\n",
    "            count+=1\n",
    "            if (count>20):\n",
    "                break\n",
    "            '''\n",
    "    return images, labels"
   ]
  },
  {
   "cell_type": "code",
   "execution_count": 4,
   "id": "combined-jefferson",
   "metadata": {},
   "outputs": [
    {
     "name": "stdout",
     "output_type": "stream",
     "text": [
      "(29600, 64, 64, 3) (29600,)\n"
     ]
    }
   ],
   "source": [
    "images, labels = dataset(data_dir)\n",
    "images = np.array(images)\n",
    "labels = np.array(labels)\n",
    "print(images.shape, labels.shape)"
   ]
  },
  {
   "cell_type": "code",
   "execution_count": 5,
   "id": "utility-winner",
   "metadata": {},
   "outputs": [],
   "source": [
    "train_images, val_images, train_labels, val_labels = train_test_split(images, labels, test_size = 0.20, shuffle = True, random_state = 10)"
   ]
  },
  {
   "cell_type": "code",
   "execution_count": 10,
   "id": "promotional-deadline",
   "metadata": {},
   "outputs": [],
   "source": [
    "\n",
    "\n",
    "def cnn_model(input_shape = (64,64,3)):\n",
    "    inputs = Input(input_shape)\n",
    "    c1 = Conv2D(64,3)(inputs)\n",
    "    c1 = Activation('relu')(c1)\n",
    "    p1 = MaxPooling2D(pool_size=(2,2))(c1)\n",
    "    \n",
    "    c2 = Conv2D(64,3)(p1)\n",
    "    c2 = Activation('relu')(c2)\n",
    "    p2 = MaxPooling2D(pool_size=(2,2))(c2) \n",
    "    \n",
    "    c3 = Conv2D(64,3)(p2)\n",
    "    c3 = Activation('relu')(c3)\n",
    "    p3 = MaxPooling2D(pool_size=(2,2))(c3)\n",
    "    \n",
    "    g1 = GlobalAveragePooling2D()(p3)\n",
    "    \n",
    "    d1 = Dense(256)(g1)\n",
    "    d1 = Dropout(0.2)(d1)\n",
    "    \n",
    "    d2 = Dense(11, activation='softmax')(d1)\n",
    "    \n",
    "    model = Model(inputs = inputs, outputs = d2)\n",
    "    \n",
    "    model.compile(optimizer=Adam(), loss=SparseCategoricalCrossentropy(from_logits=True), metrics=['accuracy'])\n",
    "    \n",
    "    return model"
   ]
  },
  {
   "cell_type": "code",
   "execution_count": 11,
   "id": "ethical-clause",
   "metadata": {},
   "outputs": [
    {
     "name": "stdout",
     "output_type": "stream",
     "text": [
      "Model: \"model\"\n",
      "_________________________________________________________________\n",
      "Layer (type)                 Output Shape              Param #   \n",
      "=================================================================\n",
      "input_2 (InputLayer)         [(None, 64, 64, 3)]       0         \n",
      "_________________________________________________________________\n",
      "conv2d_3 (Conv2D)            (None, 62, 62, 64)        1792      \n",
      "_________________________________________________________________\n",
      "activation_3 (Activation)    (None, 62, 62, 64)        0         \n",
      "_________________________________________________________________\n",
      "max_pooling2d_3 (MaxPooling2 (None, 31, 31, 64)        0         \n",
      "_________________________________________________________________\n",
      "conv2d_4 (Conv2D)            (None, 29, 29, 64)        36928     \n",
      "_________________________________________________________________\n",
      "activation_4 (Activation)    (None, 29, 29, 64)        0         \n",
      "_________________________________________________________________\n",
      "max_pooling2d_4 (MaxPooling2 (None, 14, 14, 64)        0         \n",
      "_________________________________________________________________\n",
      "conv2d_5 (Conv2D)            (None, 12, 12, 64)        36928     \n",
      "_________________________________________________________________\n",
      "activation_5 (Activation)    (None, 12, 12, 64)        0         \n",
      "_________________________________________________________________\n",
      "max_pooling2d_5 (MaxPooling2 (None, 6, 6, 64)          0         \n",
      "_________________________________________________________________\n",
      "global_average_pooling2d_1 ( (None, 64)                0         \n",
      "_________________________________________________________________\n",
      "dense_2 (Dense)              (None, 256)               16640     \n",
      "_________________________________________________________________\n",
      "dropout_1 (Dropout)          (None, 256)               0         \n",
      "_________________________________________________________________\n",
      "dense_3 (Dense)              (None, 11)                2827      \n",
      "=================================================================\n",
      "Total params: 95,115\n",
      "Trainable params: 95,115\n",
      "Non-trainable params: 0\n",
      "_________________________________________________________________\n"
     ]
    }
   ],
   "source": [
    "model = cnn_model()\n",
    "model.summary()"
   ]
  },
  {
   "cell_type": "code",
   "execution_count": 12,
   "id": "underlying-shift",
   "metadata": {},
   "outputs": [
    {
     "name": "stderr",
     "output_type": "stream",
     "text": [
      "2021-10-12 21:27:32.314650: I tensorflow/compiler/mlir/mlir_graph_optimization_pass.cc:185] None of the MLIR Optimization Passes are enabled (registered 2)\n",
      "/usr/local/lib/python3.8/dist-packages/keras/backend.py:4906: UserWarning: \"`sparse_categorical_crossentropy` received `from_logits=True`, but the `output` argument was produced by a sigmoid or softmax activation and thus does not represent logits. Was this intended?\"\n",
      "  warnings.warn(\n"
     ]
    },
    {
     "name": "stdout",
     "output_type": "stream",
     "text": [
      "Epoch 1/10\n"
     ]
    },
    {
     "name": "stderr",
     "output_type": "stream",
     "text": [
      "2021-10-12 21:27:33.879458: I tensorflow/stream_executor/cuda/cuda_dnn.cc:381] Loaded cuDNN version 8204\n"
     ]
    },
    {
     "name": "stdout",
     "output_type": "stream",
     "text": [
      "370/370 [==============================] - 7s 8ms/step - loss: 1.4119 - accuracy: 0.6291 - val_loss: 0.2580 - val_accuracy: 0.9301\n",
      "Epoch 2/10\n",
      "370/370 [==============================] - 3s 7ms/step - loss: 0.2160 - accuracy: 0.9321 - val_loss: 0.0862 - val_accuracy: 0.9784\n",
      "Epoch 3/10\n",
      "370/370 [==============================] - 3s 7ms/step - loss: 0.0874 - accuracy: 0.9711 - val_loss: 0.0489 - val_accuracy: 0.9806\n",
      "Epoch 4/10\n",
      "370/370 [==============================] - 3s 7ms/step - loss: 0.0551 - accuracy: 0.9809 - val_loss: 0.0658 - val_accuracy: 0.9762\n",
      "Epoch 5/10\n",
      "370/370 [==============================] - 3s 7ms/step - loss: 0.0620 - accuracy: 0.9776 - val_loss: 0.2630 - val_accuracy: 0.9081\n",
      "Epoch 6/10\n",
      "370/370 [==============================] - 3s 7ms/step - loss: 0.0562 - accuracy: 0.9785 - val_loss: 0.0232 - val_accuracy: 0.9873\n",
      "Epoch 7/10\n",
      "370/370 [==============================] - 3s 7ms/step - loss: 0.0309 - accuracy: 0.9866 - val_loss: 0.0451 - val_accuracy: 0.9757\n",
      "Epoch 8/10\n",
      "370/370 [==============================] - 3s 7ms/step - loss: 0.0643 - accuracy: 0.9764 - val_loss: 0.0229 - val_accuracy: 0.9865\n",
      "Epoch 9/10\n",
      "370/370 [==============================] - 3s 7ms/step - loss: 0.0384 - accuracy: 0.9831 - val_loss: 0.1661 - val_accuracy: 0.9498\n",
      "Epoch 10/10\n",
      "370/370 [==============================] - 3s 7ms/step - loss: 0.0419 - accuracy: 0.9823 - val_loss: 0.0308 - val_accuracy: 0.9858\n"
     ]
    },
    {
     "data": {
      "image/png": "[encoded data removed]",
      "text/plain": [
       "<Figure size 432x288 with 1 Axes>"
      ]
     },
     "metadata": {
      "needs_background": "light"
     },
     "output_type": "display_data"
    },
    {
     "data": {
      "image/png": "[encoded data removed]",
      "text/plain": [
       "<Figure size 432x288 with 1 Axes>"
      ]
     },
     "metadata": {
      "needs_background": "light"
     },
     "output_type": "display_data"
    }
   ],
   "source": [
    "history = model.fit(train_images, train_labels, validation_data = (val_images, val_labels), batch_size=64, epochs=10)\n",
    "\n",
    "plt.plot(history.history['loss'])\n",
    "plt.plot(history.history['val_loss'])\n",
    "plt.title('model loss')\n",
    "plt.ylabel('loss')\n",
    "plt.xlabel('epoch')\n",
    "plt.legend(['train', 'val'], loc='upper left')\n",
    "plt.show()\n",
    "\n",
    "plt.plot(history.history['accuracy'])\n",
    "plt.plot(history.history['val_accuracy'])\n",
    "plt.title('model accuracy')\n",
    "plt.ylabel('accuracy')\n",
    "plt.xlabel('epoch')\n",
    "plt.legend(['train', 'val'], loc='upper left')\n",
    "plt.show()\n",
    "\n",
    "#tensorboard"
   ]
  },
  {
   "cell_type": "code",
   "execution_count": 13,
   "id": "prepared-asbestos",
   "metadata": {},
   "outputs": [],
   "source": [
    "model.save('myModel.h5')"
   ]
  },
  {
   "cell_type": "code",
   "execution_count": 14,
   "id": "standard-punch",
   "metadata": {},
   "outputs": [],
   "source": [
    "from pytube import YouTube"
   ]
  },
  {
   "cell_type": "code",
   "execution_count": 16,
   "id": "developmental-weekend",
   "metadata": {},
   "outputs": [
    {
     "data": {
      "text/plain": [
       "'/home/madil/dlmed/problems/human_activity/./video/break dance 《RESPECT 》VIDEOS😱.mp4'"
      ]
     },
     "execution_count": 16,
     "metadata": {},
     "output_type": "execute_result"
    }
   ],
   "source": [
    "yt = YouTube('https://www.youtube.com/watch?v=1Yxfuvz7zzU')\n",
    "yt = yt.streams.filter(file_extension='mp4').first()\n",
    "yt.download(\"./video\")"
   ]
  },
  {
   "cell_type": "code",
   "execution_count": 17,
   "id": "concerned-auditor",
   "metadata": {},
   "outputs": [],
   "source": [
    "import cv2"
   ]
  },
  {
   "cell_type": "code",
   "execution_count": 18,
   "id": "aerial-deadline",
   "metadata": {},
   "outputs": [],
   "source": [
    "import os"
   ]
  },
  {
   "cell_type": "code",
   "execution_count": 27,
   "id": "raising-thanksgiving",
   "metadata": {},
   "outputs": [],
   "source": [
    "cap= cv2.VideoCapture('./video/break dance 《RESPECT 》VIDEOS😱.mp4')\n",
    "i=0\n",
    "folder = './video/data'\n",
    "while(cap.isOpened()):\n",
    "    ret, frame = cap.read()\n",
    "    if ret == False:\n",
    "        break\n",
    "    file_name = 'data'+str(i)+'.jpg'\n",
    "    path = os.path.join(folder, file_name)\n",
    "    cv2.imwrite(path,frame)\n",
    "    i+=1\n",
    " \n",
    "cap.release()"
   ]
  },
  {
   "cell_type": "code",
   "execution_count": 28,
   "id": "compressed-implementation",
   "metadata": {},
   "outputs": [],
   "source": [
    "def dataset(img_folder):\n",
    "    images =[]\n",
    "  # labels =[]\n",
    "    IMG_HEIGHT = 64\n",
    "    IMG_WIDTH = 64\n",
    "    for i in os.listdir(img_folder):\n",
    "        image = cv2.imread(os.path.join(img_folder, i))\n",
    "        image = cv2.resize(image, (IMG_HEIGHT,IMG_WIDTH))\n",
    "        images.append(image)\n",
    "       # labels.append('breakdancing')    \n",
    "    return images"
   ]
  },
  {
   "cell_type": "code",
   "execution_count": 29,
   "id": "excited-process",
   "metadata": {},
   "outputs": [],
   "source": [
    "import numpy as np"
   ]
  },
  {
   "cell_type": "code",
   "execution_count": 30,
   "id": "oriental-concrete",
   "metadata": {},
   "outputs": [
    {
     "name": "stdout",
     "output_type": "stream",
     "text": [
      "(373, 64, 64, 3)\n"
     ]
    }
   ],
   "source": [
    "img_folder = './video/data'\n",
    "images = dataset(img_folder)\n",
    "images = np.array(images)\n",
    "print(images.shape)"
   ]
  },
  {
   "cell_type": "code",
   "execution_count": 31,
   "id": "assumed-citizen",
   "metadata": {},
   "outputs": [],
   "source": [
    "model.load_weights(\"myModel.h5\")"
   ]
  },
  {
   "cell_type": "code",
   "execution_count": 32,
   "id": "capital-glasgow",
   "metadata": {},
   "outputs": [],
   "source": [
    "prediction = np.array(model.predict(images))"
   ]
  },
  {
   "cell_type": "code",
   "execution_count": 35,
   "id": "russian-klein",
   "metadata": {},
   "outputs": [
    {
     "name": "stdout",
     "output_type": "stream",
     "text": [
      "(373, 11)\n"
     ]
    }
   ],
   "source": [
    "print(prediction.shape)"
   ]
  },
  {
   "cell_type": "code",
   "execution_count": 47,
   "id": "joint-details",
   "metadata": {},
   "outputs": [
    {
     "name": "stdout",
     "output_type": "stream",
     "text": [
      "celebrating\n"
     ]
    }
   ],
   "source": [
    "prediction_classes = np.argmax(prediction, axis=1)\n",
    "most_common_class = directories[np.argmax(np.bincount(prediction_classes))]\n",
    "print(most_common_class)"
   ]
  },
  {
   "cell_type": "code",
   "execution_count": 48,
   "metadata": {},
   "outputs": [],
   "source": [
    "def download_video(link, download_path, output_filename):\n",
    "    yt = YouTube(link)\n",
    "    yt = yt.streams.filter(file_extension='mp4').first()\n",
    "    yt.download(output_path=download_path, filename=output_filename)\n",
    "\n",
    "def convert_video_to_images(download_path, output_filename, images_dir='data'):\n",
    "    cap= cv2.VideoCapture(os.path.join(download_path, output_filename))\n",
    "    i=0\n",
    "    folder = os.path.join(download_path, images_dir)\n",
    "    while(cap.isOpened()):\n",
    "        ret, frame = cap.read()\n",
    "        if ret == False:\n",
    "            break\n",
    "        file_name = images_dir+str(i)+'.jpg'\n",
    "        path = os.path.join(folder, file_name)\n",
    "        cv2.imwrite(path,frame)\n",
    "        i+=1\n",
    "    \n",
    "    cap.release()\n",
    "\n",
    "def predict_video_class_from_youtube(video_link, download_path, model, output_filename='video.mp4', model_name=\"myModel.h5\", images_dir='data'):\n",
    "    download_video(video_link, download_path, output_filename)\n",
    "    convert_video_to_images(download_path, output_filename, images_dir=images_dir)\n",
    "    img_folder = os.path.join(download_path, images_dir)\n",
    "    images = dataset(img_folder)\n",
    "    images = np.array(images)\n",
    "    print(images.shape)\n",
    "    model.load_weights(model_name)\n",
    "    prediction = np.array(model.predict(images))\n",
    "    prediction_classes = np.argmax(prediction, axis=1)\n",
    "    most_common_class = directories[np.argmax(np.bincount(prediction_classes))]\n",
    "    return most_common_class\n",
    "    "
   ]
  },
  {
   "cell_type": "code",
   "execution_count": 50,
   "metadata": {},
   "outputs": [
    {
     "name": "stdout",
     "output_type": "stream",
     "text": [
      "(373, 64, 64, 3)\n",
      "celebrating\n"
     ]
    }
   ],
   "source": [
    "print(predict_video_class_from_youtube(\"https://www.youtube.com/watch?v=1Yxfuvz7zzU\", \"./video\", model))"
   ]
  },
  {
   "cell_type": "code",
   "execution_count": null,
   "metadata": {},
   "outputs": [],
   "source": []
  }
 ],
 "metadata": {
  "interpreter": {
   "hash": "767d51c1340bd893661ea55ea3124f6de3c7a262a8b4abca0554b478b1e2ff90"
  },
  "kernelspec": {
   "display_name": "Python 3.8.10 64-bit",
   "name": "python3"
  },
  "language_info": {
   "codemirror_mode": {
    "name": "ipython",
    "version": 3
   },
   "file_extension": ".py",
   "mimetype": "text/x-python",
   "name": "python",
   "nbconvert_exporter": "python",
   "pygments_lexer": "ipython3",
   "version": "3.8.10"
  }
 },
 "nbformat": 4,
 "nbformat_minor": 5
}
